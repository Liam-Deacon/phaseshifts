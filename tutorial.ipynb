{
 "cells": [
  {
   "cell_type": "markdown",
   "metadata": {},
   "source": [
    "# `phaseshifts` Tutorial Notebook\n",
    "\n",
    "## Introduction\n",
    "\n",
    "The [`phaseshifts`](liam-deacon.github.io/phaseshifts/) package aims to make calculating elastic electron\n",
    "atom scattering (EEAS) phase shifts easier for LEED modelling. It is essentially a higher-level wrapper around the\n",
    "[Barbieri/Van Hove LEEDPACK](https://www.icts.hkbu.edu.hk/VanHove_files/leed/leedpack.html) `phsh[0-3]` programs.\n",
    "\n",
    "It provides several layers of abstraction, however most users will either be interesting in using the `phsh`\n",
    "script installed as part of the `phaseshifts` package or else hook into the python code via `phaseshifts.phsh`\n",
    "module."
   ]
  },
  {
   "cell_type": "code",
   "execution_count": null,
   "metadata": {},
   "outputs": [],
   "source": [
    "%pip install -q numpy"
   ]
  },
  {
   "cell_type": "code",
   "execution_count": null,
   "metadata": {},
   "outputs": [],
   "source": [
    "! python -m phaseshifts.phsh --help"
   ]
  },
  {
   "cell_type": "markdown",
   "metadata": {},
   "source": [
    "## Input Files\n",
    "\n",
    "For the phsh wrapper, a minimum of two model input files are needed in order to generate the EEAS phase shifts, `<model>.bul` and `<model.inp>`, representing the bulk and surface model unit cells, respectively.\n",
    "\n",
    "Some examples can be found under the `phaseshifts/examples/input_files` directory of this repository."
   ]
  },
  {
   "cell_type": "code",
   "execution_count": null,
   "metadata": {},
   "outputs": [],
   "source": [
    "!tree phaseshifts/examples -I 'at*.*'"
   ]
  },
  {
   "cell_type": "markdown",
   "metadata": {},
   "source": [
    "## Example"
   ]
  },
  {
   "cell_type": "code",
   "execution_count": null,
   "metadata": {},
   "outputs": [],
   "source": [
    "!cat phaseshifts/examples/input_files/cluster_W_slab.i"
   ]
  },
  {
   "cell_type": "code",
   "execution_count": null,
   "metadata": {},
   "outputs": [],
   "source": [
    "!ls phaseshifts/examples/input_files/*W*"
   ]
  },
  {
   "cell_type": "code",
   "execution_count": null,
   "metadata": {},
   "outputs": [],
   "source": [
    "from phaseshifts.phsh import Wrapper\n",
    "\n",
    "Wrapper.autogen_from_input??"
   ]
  }
 ],
 "metadata": {
  "kernelspec": {
   "display_name": "phsh",
   "language": "python",
   "name": "python3"
  },
  "language_info": {
   "codemirror_mode": {
    "name": "ipython",
    "version": 3
   },
   "file_extension": ".py",
   "mimetype": "text/x-python",
   "name": "python",
   "nbconvert_exporter": "python",
   "pygments_lexer": "ipython3",
   "version": "3.11.4"
  }
 },
 "nbformat": 4,
 "nbformat_minor": 2
}
